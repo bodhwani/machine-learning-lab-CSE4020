{
 "cells": [
  {
   "cell_type": "code",
   "execution_count": 37,
   "metadata": {
    "collapsed": true
   },
   "outputs": [],
   "source": [
    "import numpy as np\n",
    "import pandas as pd\n",
    "import scipy.stats as stats\n",
    "import matplotlib.pyplot as plt\n",
    "import sklearn\n",
    "from sklearn import linear_model\n",
    "from sklearn.metrics import mean_squared_error, r2_score\n",
    "import seaborn as sns\n",
    "from sklearn import preprocessing,cross_validation,neighbors\n",
    "from sklearn.metrics import accuracy_score"
   ]
  },
  {
   "cell_type": "code",
   "execution_count": 38,
   "metadata": {},
   "outputs": [
    {
     "name": "stdout",
     "output_type": "stream",
     "text": [
      "    PIQ   Brain  Height  Weight\n",
      "0   124   81.69    64.5     118\n",
      "1   150  103.84    73.3     143\n",
      "2   128   96.54    68.8     172\n",
      "3   134   95.15    65.0     147\n",
      "4   110   92.88    69.0     146\n",
      "5   131   99.13    64.5     138\n",
      "6    98   85.43    66.0     175\n",
      "7    84   90.49    66.3     134\n",
      "8   147   95.55    68.8     172\n",
      "9   124   83.39    64.5     118\n",
      "10  128  107.95    70.0     151\n",
      "11  124   92.41    69.0     155\n",
      "12  147   85.65    70.5     155\n",
      "13   90   87.89    66.0     146\n",
      "14   96   86.54    68.0     135\n",
      "15  120   85.22    68.5     127\n",
      "16  102   94.51    73.5     178\n",
      "17   84   80.80    66.3     136\n",
      "18   86   88.91    70.0     180\n",
      "19   84   90.59    76.5     186\n",
      "20  134   79.06    62.0     122\n",
      "21  128   95.50    68.0     132\n",
      "22  102   83.18    63.0     114\n",
      "23  131   93.55    72.0     171\n",
      "24   84   79.86    68.0     140\n",
      "25  110  106.25    77.0     187\n",
      "26   72   79.35    63.0     106\n",
      "27  124   86.67    66.5     159\n",
      "28  132   85.78    62.5     127\n",
      "29  137   94.96    67.0     191\n",
      "30  110   99.79    75.5     192\n",
      "31   86   88.00    69.0     181\n",
      "32   81   83.43    66.5     143\n",
      "33  128   94.81    66.5     153\n",
      "34  124   94.94    70.5     144\n",
      "35   94   89.40    64.5     139\n",
      "36   74   93.00    74.0     148\n",
      "37   89   93.59    75.5     179\n",
      "PIQ         int64\n",
      "Brain     float64\n",
      "Height    float64\n",
      "Weight      int64\n",
      "dtype: object\n"
     ]
    }
   ],
   "source": [
    "dataset = pd.read_csv('dataset3.csv')\n",
    "print dataset\n",
    "print dataset.dtypes"
   ]
  },
  {
   "cell_type": "markdown",
   "metadata": {},
   "source": [
    "# Scatter Plots"
   ]
  },
  {
   "cell_type": "code",
   "execution_count": 39,
   "metadata": {},
   "outputs": [
    {
     "data": {
      "image/png": "[encoded data removed]",
      "text/plain": [
       "<matplotlib.figure.Figure at 0x11c7ed3d0>"
      ]
     },
     "metadata": {},
     "output_type": "display_data"
    }
   ],
   "source": [
    "brain = dataset['Brain']\n",
    "piq = dataset['PIQ']\n",
    "sns.regplot(x='Brain', y='PIQ', data=dataset, fit_reg=False)\n",
    "plt.show()"
   ]
  },
  {
   "cell_type": "code",
   "execution_count": 55,
   "metadata": {
    "collapsed": true
   },
   "outputs": [],
   "source": [
    "x_train, x_test, y_train,y_test= cross_validation.train_test_split(dataset['Brain'],dataset['PIQ'],test_size=0.2)"
   ]
  },
  {
   "cell_type": "code",
   "execution_count": 56,
   "metadata": {},
   "outputs": [
    {
     "name": "stdout",
     "output_type": "stream",
     "text": [
      "0.327559849378\n"
     ]
    }
   ],
   "source": [
    "reg = linear_model.LinearRegression()\n",
    "reg.fit(x_train.values.reshape(-1,1), y_train.values.reshape(-1,1))\n",
    "print reg.score(x_test.values.reshape(-1,1),y_test.values.reshape(-1,1))"
   ]
  },
  {
   "cell_type": "code",
   "execution_count": 57,
   "metadata": {},
   "outputs": [
    {
     "data": {
      "image/png": "[encoded data removed]",
      "text/plain": [
       "<matplotlib.figure.Figure at 0x11c603e50>"
      ]
     },
     "metadata": {},
     "output_type": "display_data"
    }
   ],
   "source": [
    "x_line = np.arange(80,100).reshape(-1,1)\n",
    "sns.regplot(x=dataset['Brain'], y=dataset['PIQ'], data=dataset, fit_reg=False)\n",
    "plt.plot(x_line, reg.predict(x_line))\n",
    "plt.show()"
   ]
  }
 ],
 "metadata": {
  "kernelspec": {
   "display_name": "Python 2",
   "language": "python",
   "name": "python2"
  },
  "language_info": {
   "codemirror_mode": {
    "name": "ipython",
    "version": 2
   },
   "file_extension": ".py",
   "mimetype": "text/x-python",
   "name": "python",
   "nbconvert_exporter": "python",
   "pygments_lexer": "ipython2",
   "version": "2.7.13"
  }
 },
 "nbformat": 4,
 "nbformat_minor": 2
}
