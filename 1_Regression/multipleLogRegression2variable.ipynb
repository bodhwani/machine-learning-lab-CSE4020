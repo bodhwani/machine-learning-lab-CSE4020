{
 "cells": [
  {
   "cell_type": "markdown",
   "metadata": {},
   "source": [
    "# Logistic Regression"
   ]
  },
  {
   "cell_type": "code",
   "execution_count": 26,
   "metadata": {
    "collapsed": true
   },
   "outputs": [],
   "source": [
    "import numpy as np\n",
    "import pandas as pd\n",
    "import scipy.stats as stats\n",
    "import matplotlib.pyplot as plt\n",
    "import sklearn\n",
    "from sklearn import linear_model\n",
    "from sklearn.metrics import mean_squared_error, r2_score\n",
    "\n",
    "from sklearn import preprocessing,cross_validation,neighbors\n",
    "from sklearn.metrics import accuracy_score"
   ]
  },
  {
   "cell_type": "code",
   "execution_count": 27,
   "metadata": {
    "collapsed": true
   },
   "outputs": [],
   "source": [
    "dataset = pd.read_csv('dataset3.csv')"
   ]
  },
  {
   "cell_type": "code",
   "execution_count": 28,
   "metadata": {},
   "outputs": [
    {
     "name": "stdout",
     "output_type": "stream",
     "text": [
      "   PIQ   Brain  Height  Weight\n",
      "0  124   81.69    64.5     118\n",
      "1  150  103.84    73.3     143\n",
      "2  128   96.54    68.8     172\n",
      "3  134   95.15    65.0     147\n",
      "4  110   92.88    69.0     146\n",
      "PIQ         int64\n",
      "Brain     float64\n",
      "Height    float64\n",
      "Weight      int64\n",
      "dtype: object\n"
     ]
    }
   ],
   "source": [
    "print dataset.head()\n",
    "print dataset.dtypes"
   ]
  },
  {
   "cell_type": "code",
   "execution_count": 53,
   "metadata": {
    "collapsed": true
   },
   "outputs": [],
   "source": [
    "X = dataset.as_matrix(['Brain','Weight']).astype('float32')\n",
    "Y = dataset.as_matrix(['PIQ'])\n",
    "\n",
    "\n",
    "x_total = X\n",
    "y_total = Y\n",
    "\n",
    "x_train, x_test, y_train,y_test= cross_validation.train_test_split(x_total,y_total,test_size=0.1)"
   ]
  },
  {
   "cell_type": "code",
   "execution_count": 54,
   "metadata": {},
   "outputs": [
    {
     "name": "stdout",
     "output_type": "stream",
     "text": [
      "[[ 101.62906181]\n",
      " [  97.63379947]\n",
      " [ 110.50650591]\n",
      " [ 118.30334168]]\n",
      "('Score: ', 0.46948008825348925)\n"
     ]
    }
   ],
   "source": [
    "reg = linear_model.LinearRegression()\n",
    "reg.fit(x_train, y_train)\n",
    "y_pred = reg.predict(x_test)\n",
    "print y_pred\n",
    "print('Score: ', reg.score(x_test, y_test))\n",
    "\n"
   ]
  },
  {
   "cell_type": "code",
   "execution_count": null,
   "metadata": {
    "collapsed": true
   },
   "outputs": [],
   "source": []
  }
 ],
 "metadata": {
  "kernelspec": {
   "display_name": "Python 2",
   "language": "python",
   "name": "python2"
  },
  "language_info": {
   "codemirror_mode": {
    "name": "ipython",
    "version": 2
   },
   "file_extension": ".py",
   "mimetype": "text/x-python",
   "name": "python",
   "nbconvert_exporter": "python",
   "pygments_lexer": "ipython2",
   "version": "2.7.13"
  }
 },
 "nbformat": 4,
 "nbformat_minor": 2
}
