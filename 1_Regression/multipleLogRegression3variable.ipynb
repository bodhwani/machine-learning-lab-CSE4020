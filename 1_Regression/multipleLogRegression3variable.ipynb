{
 "cells": [
  {
   "cell_type": "code",
   "execution_count": 2,
   "metadata": {},
   "outputs": [
    {
     "name": "stderr",
     "output_type": "stream",
     "text": [
      "/Users/Vinit/anaconda/lib/python2.7/site-packages/sklearn/cross_validation.py:44: DeprecationWarning: This module was deprecated in version 0.18 in favor of the model_selection module into which all the refactored classes and functions are moved. Also note that the interface of the new CV iterators are different from that of this module. This module will be removed in 0.20.\n",
      "  \"This module will be removed in 0.20.\", DeprecationWarning)\n"
     ]
    }
   ],
   "source": [
    "import numpy as np\n",
    "import pandas as pd\n",
    "import scipy.stats as stats\n",
    "import matplotlib.pyplot as plt\n",
    "import sklearn\n",
    "from sklearn import linear_model\n",
    "from sklearn.metrics import mean_squared_error, r2_score\n",
    "\n",
    "from sklearn import preprocessing,cross_validation,neighbors\n",
    "from sklearn.metrics import accuracy_score"
   ]
  },
  {
   "cell_type": "code",
   "execution_count": 3,
   "metadata": {
    "collapsed": true
   },
   "outputs": [],
   "source": [
    "dataset = pd.read_csv('dataset3.csv')"
   ]
  },
  {
   "cell_type": "code",
   "execution_count": 4,
   "metadata": {},
   "outputs": [
    {
     "name": "stdout",
     "output_type": "stream",
     "text": [
      "   PIQ   Brain  Height  Weight\n",
      "0  124   81.69    64.5     118\n",
      "1  150  103.84    73.3     143\n",
      "2  128   96.54    68.8     172\n",
      "3  134   95.15    65.0     147\n",
      "4  110   92.88    69.0     146\n",
      "PIQ         int64\n",
      "Brain     float64\n",
      "Height    float64\n",
      "Weight      int64\n",
      "dtype: object\n"
     ]
    }
   ],
   "source": [
    "print dataset.head()\n",
    "print dataset.dtypes"
   ]
  },
  {
   "cell_type": "code",
   "execution_count": 5,
   "metadata": {},
   "outputs": [
    {
     "name": "stdout",
     "output_type": "stream",
     "text": [
      "[[81.689999999999998, 118, 64.5], [103.84, 143, 73.299999999999997], [96.540000000000006, 172, 68.799999999999997], [95.150000000000006, 147, 65.0], [92.879999999999995, 146, 69.0], [99.129999999999995, 138, 64.5], [85.430000000000007, 175, 66.0], [90.489999999999995, 134, 66.299999999999997], [95.549999999999997, 172, 68.799999999999997], [83.390000000000001, 118, 64.5], [107.95, 151, 70.0], [92.409999999999997, 155, 69.0], [85.650000000000006, 155, 70.5], [87.890000000000001, 146, 66.0], [86.540000000000006, 135, 68.0], [85.219999999999999, 127, 68.5], [94.510000000000005, 178, 73.5], [80.799999999999997, 136, 66.299999999999997], [88.909999999999997, 180, 70.0], [90.590000000000003, 186, 76.5], [79.060000000000002, 122, 62.0], [95.5, 132, 68.0], [83.180000000000007, 114, 63.0], [93.549999999999997, 171, 72.0], [79.859999999999999, 140, 68.0], [106.25, 187, 77.0], [79.349999999999994, 106, 63.0], [86.670000000000002, 159, 66.5], [85.780000000000001, 127, 62.5], [94.959999999999994, 191, 67.0], [99.790000000000006, 192, 75.5], [88.0, 181, 69.0], [83.430000000000007, 143, 66.5], [94.810000000000002, 153, 66.5], [94.939999999999998, 144, 70.5], [89.400000000000006, 139, 64.5], [93.0, 148, 74.0], [93.590000000000003, 179, 75.5]]\n"
     ]
    }
   ],
   "source": [
    "brain = dataset['Brain']\n",
    "weight = dataset['Weight']\n",
    "height = dataset['Height']\n",
    "\n",
    "piq = dataset['PIQ']\n",
    "\n",
    "\n",
    "x_total = []\n",
    "\n",
    "# print brain\n",
    "#print piq\n",
    "# y_total = [x for x in piq]\n",
    "# for i in brain:\n",
    "#     for j in weight:\n",
    "#         x = x.append(i,j)\n",
    "#         break\n",
    "#     x_total.append(x)\n",
    "brainx=  [y for y in brain]\n",
    "weightx = [x for x in weight]\n",
    "heightx = [z for z in height]\n",
    "a=zip(brainx, weightx, heightx)\n",
    "for i in range(len(a)):\n",
    "    a[i]=list(a[i])\n",
    "\n",
    "y_total = [x for x in piq]\n",
    "x_total = a\n",
    "\n",
    "print x_total\n",
    "\n",
    "\n",
    "\n"
   ]
  },
  {
   "cell_type": "code",
   "execution_count": 7,
   "metadata": {},
   "outputs": [],
   "source": [
    "\n",
    "\n",
    "x_train, x_test, y_train,y_test= cross_validation.train_test_split(x_total,y_total,test_size=0.2)"
   ]
  },
  {
   "cell_type": "code",
   "execution_count": 8,
   "metadata": {
    "collapsed": true
   },
   "outputs": [],
   "source": [
    "reg = linear_model.LinearRegression()\n"
   ]
  },
  {
   "cell_type": "code",
   "execution_count": 11,
   "metadata": {},
   "outputs": [
    {
     "name": "stdout",
     "output_type": "stream",
     "text": [
      "[ 106.30052865  103.53959376   90.83308571  114.34026815   98.58884674\n",
      "  110.24179729  118.77583963  118.02970979]\n",
      "('Coefficients: \\n', array([ 2.08042476,  0.0606941 , -3.27565832]))\n"
     ]
    }
   ],
   "source": [
    "reg.fit(x_train, y_train)\n",
    "y_pred = reg.predict(x_test)\n",
    "print y_pred\n",
    "\n",
    "\n",
    "print('Coefficients: \\n', reg.coef_)\n",
    "# The mean squared error\n",
    "\n"
   ]
  },
  {
   "cell_type": "code",
   "execution_count": 12,
   "metadata": {},
   "outputs": [
    {
     "name": "stdout",
     "output_type": "stream",
     "text": [
      "Here is the score on training data 0.409071631771\n"
     ]
    }
   ],
   "source": [
    "train_color = \"b\"\n",
    "test_color = \"r\"\n",
    "score = reg.score(x_train,y_train)\n",
    "print \"Here is the score on training data\",score\n",
    "\n",
    "\n"
   ]
  },
  {
   "cell_type": "code",
   "execution_count": null,
   "metadata": {
    "collapsed": true
   },
   "outputs": [],
   "source": []
  }
 ],
 "metadata": {
  "kernelspec": {
   "display_name": "Python 2",
   "language": "python",
   "name": "python2"
  },
  "language_info": {
   "codemirror_mode": {
    "name": "ipython",
    "version": 2
   },
   "file_extension": ".py",
   "mimetype": "text/x-python",
   "name": "python",
   "nbconvert_exporter": "python",
   "pygments_lexer": "ipython2",
   "version": "2.7.13"
  }
 },
 "nbformat": 4,
 "nbformat_minor": 2
}
